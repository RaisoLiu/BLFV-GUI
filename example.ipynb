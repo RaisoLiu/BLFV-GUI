{
 "cells": [
  {
   "cell_type": "code",
   "execution_count": null,
   "metadata": {},
   "outputs": [],
   "source": [
    "import os\n",
    "\n",
    "vin = 'out.mp4'\n",
    "out_dir = 'results/'\n"
   ]
  },
  {
   "cell_type": "code",
   "execution_count": null,
   "metadata": {},
   "outputs": [],
   "source": [
    "from feature_extraction import PatchFeatureGenerator   \n",
    "    \n",
    "pfg = PatchFeatureGenerator('dinov2_vits14')\n",
    "patch_size = pfg.model.patch_size"
   ]
  },
  {
   "cell_type": "code",
   "execution_count": null,
   "metadata": {},
   "outputs": [],
   "source": [
    "from video_processing import VideoManager\n",
    "\n",
    "kernel_frame_size = 8\n",
    "vm = VideoManager(vin, out_dir, kernel_frame_size)"
   ]
  },
  {
   "cell_type": "code",
   "execution_count": null,
   "metadata": {},
   "outputs": [],
   "source": [
    "from matplotlib import pyplot as plt\n",
    "\n",
    "kernel_frame = vm.getkernelframe()\n",
    "plt.figure(figsize=(10, 8))\n",
    "for i in range(4):\n",
    "    it = kernel_frame[i]\n",
    "    plt.subplot(1, 4, i+1)\n",
    "    plt.imshow(it)\n",
    "    plt.axis('off')\n",
    "plt.show()\n",
    "plt.close()"
   ]
  },
  {
   "cell_type": "code",
   "execution_count": null,
   "metadata": {},
   "outputs": [],
   "source": [
    "# transform\n",
    "\n",
    "import torchvision.transforms as tt\n",
    "resolution = 518\n",
    "patch_len = resolution // 14\n",
    "\n",
    "img2tensor = tt.Compose([\n",
    "    tt.ToTensor(), # range [0, 255] -> [0.0,1.0]\n",
    "    tt.Resize((resolution, resolution) ),\n",
    "    tt.Normalize(mean=0.5, std=0.2), # range [0.0,1.0] -> [-2.5, 2.5]\n",
    "\n",
    "])\n",
    "\n",
    "tensor2img = tt.Compose([\n",
    "    tt.Normalize(mean=-2.5, std=5), # range [-2.5, 2.5] -> [0.0,1.0]\n",
    "    tt.ToPILImage()\n",
    "])"
   ]
  },
  {
   "cell_type": "code",
   "execution_count": null,
   "metadata": {},
   "outputs": [],
   "source": [
    "from feature_extraction import FeatureFilter\n",
    "import numpy as np\n",
    "\n",
    "\n",
    "kernel_frame = vm.getkernelframe()\n",
    "kernel_tensor = [img2tensor(it) for it in kernel_frame]\n",
    "patch_feature = pfg.batch_run(kernel_tensor)\n",
    "print(patch_feature.shape)"
   ]
  },
  {
   "cell_type": "code",
   "execution_count": null,
   "metadata": {},
   "outputs": [],
   "source": [
    "X = np.array(patch_feature)\n",
    "n_kernel, n_token_per_frame, n_feat = X.shape\n",
    "print(n_kernel, n_token_per_frame, n_feat)\n",
    "X = X.reshape((-1, n_feat))\n",
    "print(X.shape)"
   ]
  },
  {
   "cell_type": "code",
   "execution_count": null,
   "metadata": {},
   "outputs": [],
   "source": [
    "ff = FeatureFilter()\n"
   ]
  },
  {
   "cell_type": "code",
   "execution_count": null,
   "metadata": {},
   "outputs": [],
   "source": [
    "lvl1_pca = 1\n",
    "ff.addLayer(X, lvl1_pca)\n",
    "mm, zz = ff.getFeature(X)\n",
    "print(mm.shape, zz.shape)\n",
    "frames_feat = np.zeros((n_kernel * n_token_per_frame, lvl1_pca))\n",
    "frames_feat[mm] = zz\n",
    "frames_feat = frames_feat.reshape((n_kernel, n_token_per_frame))\n",
    "kernel_frame = vm.getkernelframe()\n",
    "plt.imshow(kernel_frame[0], extent=(0, resolution, resolution,0))\n",
    "plt.imshow(frames_feat[0].reshape((patch_len, patch_len, lvl1_pca)), extent=(0, resolution, resolution,0), alpha=0.5)\n",
    "plt.axis('off')\n",
    "plt.colorbar()\n",
    "plt.show()\n",
    "plt.close()"
   ]
  },
  {
   "cell_type": "code",
   "execution_count": null,
   "metadata": {},
   "outputs": [],
   "source": [
    "ff.setLayerThreshold(0, [(.35, .6)])\n",
    "mm, zz = ff.getFeature(X)\n",
    "print(mm.shape, zz.shape)\n",
    "frames_feat = np.zeros((n_kernel * n_token_per_frame, lvl1_pca))\n",
    "frames_feat[mm] = zz\n",
    "frames_feat = frames_feat.reshape((n_kernel, n_token_per_frame, lvl1_pca))\n",
    "kernel_frame = vm.getkernelframe()\n",
    "plt.imshow(kernel_frame[0], extent=(0, resolution, resolution,0))\n",
    "plt.imshow(frames_feat[0].reshape((patch_len, patch_len, lvl1_pca)), extent=(0, resolution, resolution,0), alpha=0.5)\n",
    "plt.axis('off')\n",
    "plt.colorbar()\n",
    "plt.show()\n",
    "plt.close()"
   ]
  },
  {
   "cell_type": "code",
   "execution_count": null,
   "metadata": {},
   "outputs": [],
   "source": [
    "plt.figure(figsize=(10, 8))\n",
    "for i, _ in enumerate(kernel_frame):\n",
    "    plt.subplot(4, 4, i+1)\n",
    "    plt.imshow(kernel_frame[i], extent=(0, resolution, resolution,0))\n",
    "    plt.imshow(frames_feat[i].reshape((patch_len, patch_len, lvl1_pca)), extent=(0, resolution, resolution,0), alpha=0.5)\n",
    "\n",
    "    plt.axis('off')\n",
    "plt.show()\n",
    "plt.close()"
   ]
  },
  {
   "cell_type": "code",
   "execution_count": null,
   "metadata": {},
   "outputs": [],
   "source": [
    "lvl2_pca = 3\n",
    "ff.addLayer(X, lvl2_pca)\n",
    "mm, zz = ff.getFeature(X)\n",
    "print(mm.shape, zz.shape)\n",
    "frames_feat = np.zeros((n_kernel * n_token_per_frame, lvl2_pca))\n",
    "frames_feat[mm] = zz\n",
    "frames_feat = frames_feat.reshape((n_kernel, n_token_per_frame, lvl2_pca))\n",
    "kernel_frame = vm.getkernelframe()\n",
    "plt.imshow(kernel_frame[0], extent=(0, resolution, resolution,0))\n",
    "plt.imshow(frames_feat[0].reshape((patch_len, patch_len, lvl2_pca)), extent=(0, resolution, resolution,0), alpha=0.5)\n",
    "plt.axis('off')\n",
    "plt.show()\n",
    "plt.close()"
   ]
  },
  {
   "cell_type": "code",
   "execution_count": null,
   "metadata": {},
   "outputs": [],
   "source": [
    "ff.setLayerThreshold(1, [(.0, .6), (.1, .9), (.6, 1.)])\n",
    "mm, zz = ff.getFeature(X)\n",
    "print(mm.shape, zz.shape)\n",
    "frames_feat = np.zeros((n_kernel * n_token_per_frame, lvl2_pca))\n",
    "frames_feat[mm] = zz\n",
    "frames_feat = frames_feat.reshape((n_kernel, n_token_per_frame, lvl2_pca))\n",
    "kernel_frame = vm.getkernelframe()\n",
    "plt.imshow(kernel_frame[0], extent=(0, resolution, resolution,0))\n",
    "plt.imshow(frames_feat[0].reshape((patch_len, patch_len, lvl2_pca)), extent=(0, resolution, resolution,0), alpha=0.5)\n",
    "plt.axis('off')\n",
    "plt.colorbar()\n",
    "plt.show()\n",
    "plt.close()"
   ]
  },
  {
   "cell_type": "code",
   "execution_count": null,
   "metadata": {},
   "outputs": [],
   "source": [
    "plt.figure(figsize=(10, 8))\n",
    "for i, _ in enumerate(kernel_frame):\n",
    "    plt.subplot(4, 4, i+1)\n",
    "    plt.imshow(kernel_frame[i], extent=(0, resolution, resolution,0))\n",
    "    plt.imshow(frames_feat[i].reshape((patch_len, patch_len, lvl2_pca)), extent=(0, resolution, resolution,0), alpha=0.5)\n",
    "\n",
    "    plt.axis('off')\n",
    "plt.show()\n",
    "plt.close()"
   ]
  },
  {
   "cell_type": "code",
   "execution_count": null,
   "metadata": {},
   "outputs": [],
   "source": [
    "lvl3_pca = 1\n",
    "ff.addLayer(X, lvl3_pca)\n",
    "mm, zz = ff.getFeature(X)\n",
    "print(mm.shape, zz.shape)\n",
    "frames_feat = np.zeros((n_kernel * n_token_per_frame, lvl3_pca))\n",
    "frames_feat[mm] = zz\n",
    "frames_feat = frames_feat.reshape((n_kernel, n_token_per_frame, lvl3_pca))\n",
    "kernel_frame = vm.getkernelframe()\n",
    "plt.imshow(kernel_frame[0], extent=(0, resolution, resolution,0))\n",
    "plt.imshow(frames_feat[0].reshape((patch_len, patch_len, lvl3_pca)), extent=(0, resolution, resolution,0), alpha=0.5)\n",
    "plt.axis('off')\n",
    "plt.show()\n",
    "plt.close()"
   ]
  },
  {
   "cell_type": "code",
   "execution_count": null,
   "metadata": {},
   "outputs": [],
   "source": [
    "ff.setLayerThreshold(2, [(.35, .55)])\n",
    "mm, zz = ff.getFeature(X)\n",
    "print(mm.shape, zz.shape)\n",
    "frames_feat = np.zeros((n_kernel * n_token_per_frame, lvl3_pca))\n",
    "frames_feat[mm] = zz\n",
    "frames_feat = frames_feat.reshape((n_kernel, n_token_per_frame, lvl3_pca))\n",
    "kernel_frame = vm.getkernelframe()\n",
    "plt.imshow(kernel_frame[0], extent=(0, resolution, resolution,0))\n",
    "plt.imshow(frames_feat[0].reshape((patch_len, patch_len, lvl3_pca)), extent=(0, resolution, resolution,0), alpha=0.5)\n",
    "plt.axis('off')\n",
    "plt.colorbar()\n",
    "plt.show()\n",
    "plt.close()"
   ]
  },
  {
   "cell_type": "code",
   "execution_count": null,
   "metadata": {},
   "outputs": [],
   "source": [
    "plt.figure(figsize=(10, 8))\n",
    "for i, _ in enumerate(kernel_frame):\n",
    "    plt.subplot(4, 4, i+1)\n",
    "    plt.imshow(kernel_frame[i], extent=(0, resolution, resolution,0))\n",
    "    plt.imshow(frames_feat[i].reshape((patch_len, patch_len, lvl3_pca)), extent=(0, resolution, resolution,0), alpha=0.5)\n",
    "\n",
    "    plt.axis('off')\n",
    "plt.show()\n",
    "plt.close()"
   ]
  },
  {
   "cell_type": "code",
   "execution_count": null,
   "metadata": {},
   "outputs": [],
   "source": [
    "lvl4_pca = 5\n",
    "ff.addLayer(X, lvl4_pca)"
   ]
  },
  {
   "cell_type": "code",
   "execution_count": null,
   "metadata": {},
   "outputs": [],
   "source": [
    "ff.setLayerThreshold(3, [(.0, 1.), (.0, 1.), (.0, 1.), (.0, 1.), (.0, 1.)])\n",
    "mm, zz = ff.getFeature(X)\n",
    "print(mm.shape, zz.shape)\n",
    "frames_feat = np.zeros((n_kernel * n_token_per_frame, lvl4_pca))\n",
    "frames_feat[mm] = zz\n",
    "frames_feat = frames_feat.reshape((n_kernel, n_token_per_frame, lvl4_pca))\n",
    "kernel_frame = vm.getkernelframe()\n",
    "plt.imshow(kernel_frame[0], extent=(0, resolution, resolution,0))\n",
    "plt.imshow(frames_feat[0].reshape((patch_len, patch_len, lvl4_pca))[:, :, 3], extent=(0, resolution, resolution,0), alpha=0.5)\n",
    "plt.axis('off')\n",
    "plt.colorbar()\n",
    "plt.show()\n",
    "plt.close()"
   ]
  },
  {
   "cell_type": "code",
   "execution_count": null,
   "metadata": {},
   "outputs": [],
   "source": [
    "plt.figure(figsize=(10, 8))\n",
    "for i, _ in enumerate(kernel_frame):\n",
    "    plt.subplot(4, 4, i+1)\n",
    "    plt.imshow(kernel_frame[i], extent=(0, resolution, resolution,0))\n",
    "    plt.imshow(frames_feat[i].reshape((patch_len, patch_len, lvl4_pca))[:, :, 3], extent=(0, resolution, resolution,0), alpha=0.5)\n",
    "\n",
    "    plt.axis('off')\n",
    "plt.show()\n",
    "plt.close()"
   ]
  },
  {
   "cell_type": "code",
   "execution_count": null,
   "metadata": {},
   "outputs": [],
   "source": [
    "import glob\n",
    "import os\n",
    "from tqdm import tqdm\n",
    "\n",
    "class Watcher:\n",
    "    def __init__(self, videoManager, patchFeatureGenerator, featureFilter, export):\n",
    "        self.frames = videoManager\n",
    "        self.pfg = patchFeatureGenerator\n",
    "        self.ff = featureFilter\n",
    "        self.export = export\n",
    "        self.attn_dir = export + 'attn/'\n",
    "        self.num_features = self.pfg.model.num_features\n",
    "    def run(self):\n",
    "        os.makedirs(self.export, exist_ok=True)\n",
    "        os.makedirs(self.attn_dir, exist_ok=True)\n",
    "        last_dim_pca = self.ff.blk[-1].n_pca\n",
    "        \n",
    "        for i in tqdm(range(len(self.frames.full_frame))):\n",
    "            frame = self.frames.getframe(i)\n",
    "            tensor = img2tensor(frame)\n",
    "            patch_feature = self.pfg.single_run(tensor)\n",
    "            X = patch_feature.reshape((-1, self.num_features))\n",
    "            mm, zz = self.ff.getFeature(X)\n",
    "            assert len(self.ff.blk) != 0, \"no filter in featureFilter.\"\n",
    "            \n",
    "            last_dim_pca = self.ff.blk[-1].n_pca\n",
    "            frames_feat = np.zeros((n_token_per_frame, last_dim_pca))\n",
    "            frames_feat[mm] = zz\n",
    "            plt.imshow(frame, extent=(0, resolution, resolution, 0))\n",
    "            plt.imshow(frames_feat.reshape((patch_len, patch_len, last_dim_pca))[:, :, 3], extent=(0, resolution, resolution,0), alpha=0.3, cmap=\"inferno\")\n",
    "\n",
    "            plt.axis('off')\n",
    "            plt.savefig(self.attn_dir + 'attn-{:04d}.jpg'.format(i), bbox_inches='tight')\n",
    "            plt.close()\n",
    "\n",
    "\n",
    "\n",
    "wa = Watcher(vm, pfg, ff, out_dir)\n",
    "wa.run()"
   ]
  },
  {
   "cell_type": "code",
   "execution_count": null,
   "metadata": {},
   "outputs": [],
   "source": [
    "import cv2\n",
    "from PIL import Image\n",
    "video_format = 'mp4'\n",
    "fps = 80\n",
    "\n",
    "FOURCC = {\n",
    "    \"mp4\": cv2.VideoWriter_fourcc(*\"MP4V\"),\n",
    "    \"avi\": cv2.VideoWriter_fourcc(*\"XVID\"),\n",
    "}\n",
    "\n",
    "\n",
    "def generate_video_from_images(inp: str, out: str):\n",
    "    img_array = []\n",
    "    attention_images_list = sorted(glob.glob(os.path.join(inp, \"*.jpg\")))\n",
    "\n",
    "    # Get size of the first image\n",
    "    with open(attention_images_list[0], \"rb\") as f:\n",
    "        img = Image.open(f)\n",
    "        img = img.convert(\"RGB\")\n",
    "        size = (img.width, img.height)\n",
    "\n",
    "\n",
    "    print(f\"Generating video {size} to {out}\")\n",
    "\n",
    "    for filename in tqdm(attention_images_list[1:]):\n",
    "        with open(filename, \"rb\") as f:\n",
    "            img = Image.open(f)\n",
    "            img = img.convert(\"RGB\")\n",
    "            img_array.append(cv2.cvtColor(np.array(img), cv2.COLOR_RGB2BGR))\n",
    "\n",
    "    out = cv2.VideoWriter(\n",
    "        os.path.join(out, \"video.\" + video_format),\n",
    "        FOURCC[video_format],\n",
    "        fps,\n",
    "        size,\n",
    "    )\n",
    "\n",
    "    for i in range(len(img_array)):\n",
    "        out.write(img_array[i])\n",
    "    out.release()\n",
    "    print(\"Done\")\n",
    "\n",
    "generate_video_from_images(wa.attn_dir, out_dir)"
   ]
  },
  {
   "cell_type": "code",
   "execution_count": null,
   "metadata": {},
   "outputs": [],
   "source": []
  }
 ],
 "metadata": {
  "kernelspec": {
   "display_name": ".venv",
   "language": "python",
   "name": "python3"
  },
  "language_info": {
   "codemirror_mode": {
    "name": "ipython",
    "version": 3
   },
   "file_extension": ".py",
   "mimetype": "text/x-python",
   "name": "python",
   "nbconvert_exporter": "python",
   "pygments_lexer": "ipython3",
   "version": "3.11.4"
  },
  "orig_nbformat": 4
 },
 "nbformat": 4,
 "nbformat_minor": 2
}
